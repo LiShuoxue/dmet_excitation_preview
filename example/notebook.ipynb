{
 "cells": [
  {
   "cell_type": "markdown",
   "id": "f0d1362d",
   "metadata": {},
   "source": [
    "# Demo of code for DMET Extension of collective excitations\n",
    "\n",
    "Here we show the computation of 10-site one-dimensional Hubbard model with $t=1, U=8$.\n"
   ]
  },
  {
   "cell_type": "code",
   "execution_count": 1,
   "id": "5621610c",
   "metadata": {},
   "outputs": [],
   "source": [
    "import os, sys\n",
    "import numpy as np\n",
    "from operator import add\n",
    "from functools import reduce\n",
    "from pyscf import gto, scf, ao2mo, fci\n",
    "import plotly.graph_objects as go\n",
    "sys.path.append(os.path.abspath(\"..\"))\n",
    "from dmet_excitation import DMET4Excitation, DEFAULT_OP_SCHEMES, ChainLattice"
   ]
  },
  {
   "cell_type": "code",
   "execution_count": 2,
   "id": "7b91969e",
   "metadata": {},
   "outputs": [
    {
     "name": "stdout",
     "output_type": "stream",
     "text": [
      "converged SCF energy = 7.05572809000083\n"
     ]
    },
    {
     "name": "stderr",
     "output_type": "stream",
     "text": [
      "Overwritten attributes  get_hcore get_ovlp  of <class 'pyscf.scf.hf.RHF'>\n"
     ]
    }
   ],
   "source": [
    "# Initialize the mean-field object of 10-site Hubbard model, U = 8.0, t = 1.0.\n",
    "# Also see https://github.com/pyscf/pyscf/blob/master/examples/scf/40-customizing_hamiltonian.py\n",
    "\n",
    "n = 10\n",
    "U = 8.0\n",
    "mol = gto.M()\n",
    "mol.nelectron = n\n",
    "mf = scf.RHF(mol)\n",
    "h1 = np.zeros((n,n))\n",
    "for i in range(n-1):\n",
    "    h1[i,i+1] = h1[i+1,i] = -1.0\n",
    "h1[n-1,0] = h1[0,n-1] = -1.0  # PBC\n",
    "eri = np.zeros((n,n,n,n))\n",
    "for i in range(n):\n",
    "    eri[i,i,i,i] = U\n",
    "mf.get_hcore = lambda *args: h1\n",
    "mf.get_ovlp = lambda *args: np.eye(n)\n",
    "mf._eri = ao2mo.restore(1, eri, n)\n",
    "mf.kernel()\n",
    "mf.incore_anyway = True"
   ]
  },
  {
   "cell_type": "code",
   "execution_count": 3,
   "id": "c8a72400",
   "metadata": {},
   "outputs": [
    {
     "name": "stdout",
     "output_type": "stream",
     "text": [
      "--------------------Lattice information--------------------\n",
      "L               = 10\n",
      "ns              = 2\n",
      "extend_idx_rule = None\n",
      "Running ground-state calculations.\n",
      "Running local excitation calculations ...\n",
      "Collecting effective Hamiltonians ...\n"
     ]
    }
   ],
   "source": [
    "# Initialize lattice and DMET object, then solve the eigenvalue problem.\n",
    "\n",
    "latt = ChainLattice(L=n, ns=2, verbose=4)\n",
    "mydmet = DMET4Excitation(lattice=latt,  # lattice object\n",
    "    hcore_lo=mf.get_hcore(), veff_lo=mf.get_veff(),\n",
    "    eri_lo=mf._eri, rdm1_lo=mf.make_rdm1(), # mean-field Hamiltonians and density matrices\n",
    "    scratch_ts=\"./scratch_ts\",  # Temporary storage for excitation space\n",
    "    scratch_cd=\"./scratch_cd\",  # Temporary storage for parts of effective Hamiltonians\n",
    "    op_scheme=DEFAULT_OP_SCHEMES['2-ee-P'], # two-site projection operators\n",
    "    verbose=4\n",
    ")\n",
    "ew = mydmet.kernel()[0][:n // 2 + 1]\n",
    "e_dmet = np.hstack(ew)\n",
    "k_dmet = np.array(reduce(add, [[_k] * nr for _k, nr in enumerate(map(len, ew))])) * np.pi * 2 / n"
   ]
  },
  {
   "cell_type": "code",
   "execution_count": 4,
   "id": "491608f6",
   "metadata": {},
   "outputs": [
    {
     "name": "stdout",
     "output_type": "stream",
     "text": [
      "FCI Excitation Energies and k-points:\n",
      "Root 1 : E = -3.31500, k = 0 pi / 5\n",
      "Root 2 : E = -3.11544, k = 5 pi / 5\n",
      "Root 3 : E = -2.97278, k = 5 pi / 5\n",
      "Root 4 : E = -2.86343, k = 1 pi / 5\n",
      "Root 5 : E = -2.86343, k = 1 pi / 5\n",
      "Root 6 : E = -2.72095, k = 4 pi / 5\n",
      "Root 7 : E = -2.72095, k = 4 pi / 5\n",
      "Root 8 : E = -2.58924, k = 0 pi / 5\n",
      "Root 9 : E = -2.56083, k = 4 pi / 5\n",
      "Root 10 : E = -2.56083, k = 4 pi / 5\n",
      "Root 11 : E = -2.55866, k = 2 pi / 5\n",
      "Root 12 : E = -2.55866, k = 2 pi / 5\n",
      "Root 13 : E = -2.50518, k = 3 pi / 5\n",
      "Root 14 : E = -2.50518, k = 3 pi / 5\n",
      "Root 15 : E = -2.50179, k = 2 pi / 5\n",
      "Root 16 : E = -2.50179, k = 2 pi / 5\n",
      "Root 17 : E = -2.38497, k = 3 pi / 5\n",
      "Root 18 : E = -2.38480, k = 3 pi / 5\n",
      "Root 19 : E = -2.36612, k = 3 pi / 5\n",
      "Root 20 : E = -2.36608, k = 3 pi / 5\n"
     ]
    }
   ],
   "source": [
    "# solve roots from exact diagonalization, and label the k-points of the excitation energies.\n",
    "from pyscf.fci.direct_spin1 import FCIBase\n",
    "\n",
    "def ci_translation_irrep(bra, ket, norb, nelec):\n",
    "    \"\"\"\n",
    "    Get the irreducible representation in D_n group of the FCI state, which yields the k-point of the excited states.\n",
    "    \"\"\"\n",
    "    neleca, nelecb = nelec\n",
    "    threshold = 2**norb\n",
    "\n",
    "    str_a = list(fci.cistring.make_strings(range(norb), neleca))\n",
    "    str_b = list(fci.cistring.make_strings(range(norb), nelecb))\n",
    "    res = 0\n",
    "\n",
    "    for i, stra in enumerate(str_a):\n",
    "        changed_stra = 2*stra\n",
    "        phase_a = 1\n",
    "        if changed_stra >= threshold: \n",
    "            changed_stra = changed_stra%threshold+1\n",
    "            phase_a = (-1) ** (neleca - 1)\n",
    "\n",
    "        changed_i = str_a.index(changed_stra)\n",
    "        for j, strb in enumerate(str_b):\n",
    "            phase_b = 1\n",
    "            changed_strb = 2*strb\n",
    "            if changed_strb >= threshold: \n",
    "                changed_strb = changed_strb%threshold+1\n",
    "                phase_b = (-1) ** (nelecb - 1)\n",
    "\n",
    "            changed_j = str_b.index(changed_strb)\n",
    "            res += bra[i,j].conj() * ket[changed_i, changed_j] * phase_a * phase_b\n",
    "\n",
    "    return res\n",
    "\n",
    "e_fci, ci = FCIBase().kernel(h1, mf._eri, n, (n // 2, n // 2), nroots=20, verbose=4)\n",
    "k_fci = []\n",
    "\n",
    "print(\"FCI Excitation Energies and k-points:\")\n",
    "for _i, (e, ci) in enumerate(zip(e_fci, ci)):\n",
    "    irrep = ci_translation_irrep(ci, ci, n, (n // 2, n // 2))\n",
    "    _k = int(np.round(np.arccos(min(irrep, 1.0)) * n / np.pi / 2))\n",
    "    print(f\"Root {_i+1} : E = {e:.5f}, k = {_k} pi / {n // 2}\")\n",
    "    k_fci.append(_k)\n",
    "e_fci = np.array(e_fci) - min(e_fci)    # get excitation energy\n",
    "k_fci = np.array(k_fci) * np.pi * 2 / n"
   ]
  },
  {
   "cell_type": "code",
   "execution_count": 5,
   "id": "60516e9b",
   "metadata": {},
   "outputs": [
    {
     "data": {
      "image/png": "[encoded data removed]",
      "text/plain": [
       "<Figure size 1000x600 with 1 Axes>"
      ]
     },
     "metadata": {},
     "output_type": "display_data"
    }
   ],
   "source": [
    "6# Plot the excitation energies from DMET and FCI\n",
    "import matplotlib.pyplot as plt\n",
    "\n",
    "plt.figure(figsize=(10, 6))\n",
    "plt.scatter(k_dmet, e_dmet, label='DMET', color='red',\n",
    "            s=100, edgecolor='black', alpha=0.7)\n",
    "plt.scatter(k_fci, e_fci, label='FCI', color='blue',\n",
    "            s=80, marker='x', alpha=0.7\n",
    ")\n",
    "plt.title('Excitation Energies from DMET (2-site, P) and FCI')\n",
    "plt.xlabel(r'$k$')\n",
    "plt.xticks(np.linspace(0, np.pi, 6), \n",
    "           [r\"$0$\", r\"$\\dfrac{\\pi}{5}$\", r\"$\\dfrac{2\\pi}{5}$\",\n",
    "            r\"$\\dfrac{3\\pi}{5}$\", r\"$\\dfrac{4\\pi}{5}$\", r\"$\\pi$\"])\n",
    "plt.ylabel('Excitation Energy / t')\n",
    "plt.ylim(-0.1, 1.2)\n",
    "plt.legend()\n",
    "plt.show()"
   ]
  }
 ],
 "metadata": {
  "kernelspec": {
   "display_name": "py311",
   "language": "python",
   "name": "python3"
  },
  "language_info": {
   "codemirror_mode": {
    "name": "ipython",
    "version": 3
   },
   "file_extension": ".py",
   "mimetype": "text/x-python",
   "name": "python",
   "nbconvert_exporter": "python",
   "pygments_lexer": "ipython3",
   "version": "3.11.12"
  }
 },
 "nbformat": 4,
 "nbformat_minor": 5
}
